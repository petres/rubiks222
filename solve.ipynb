{
 "cells": [
  {
   "cell_type": "code",
   "execution_count": 6,
   "id": "4c3743af-7e59-4772-aaff-0d688874620f",
   "metadata": {},
   "outputs": [],
   "source": [
    "from base import loadStates, Cube\n",
    "\n",
    "states = loadStates()"
   ]
  },
  {
   "cell_type": "code",
   "execution_count": 4,
   "id": "0e0c0ae1",
   "metadata": {},
   "outputs": [
    {
     "name": "stdout",
     "output_type": "stream",
     "text": [
      "R2 F2 R U' R' U' R F2 R2\n"
     ]
    }
   ],
   "source": [
    "# ORDERING\n",
    "#   0\n",
    "# 4 2 1 5\n",
    "#   3\n",
    "\n",
    "c = Cube('YGBY RYWO OBBR WBGG OYRO RGWW')\n",
    "p = c.getPathInfo(states)\n",
    "print(' '.join(p))"
   ]
  },
  {
   "cell_type": "code",
   "execution_count": 5,
   "id": "37c4a849",
   "metadata": {},
   "outputs": [
    {
     "name": "stdout",
     "output_type": "stream",
     "text": [
      "U R' U' R' U2 R' U' R2\n"
     ]
    }
   ],
   "source": [
    "c = Cube()\n",
    "c.turn(\"R U R U R U R U R U R U\")\n",
    "p = c.getPathInfo(states)\n",
    "print(' '.join(p))"
   ]
  }
 ],
 "metadata": {
  "kernelspec": {
   "display_name": "Python 3 (ipykernel)",
   "language": "python",
   "name": "python3"
  },
  "language_info": {
   "codemirror_mode": {
    "name": "ipython",
    "version": 3
   },
   "file_extension": ".py",
   "mimetype": "text/x-python",
   "name": "python",
   "nbconvert_exporter": "python",
   "pygments_lexer": "ipython3",
   "version": "3.12.1"
  }
 },
 "nbformat": 4,
 "nbformat_minor": 5
}
