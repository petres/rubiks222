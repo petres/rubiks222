{
 "cells": [
  {
   "cell_type": "code",
   "execution_count": 10,
   "id": "4c3743af-7e59-4772-aaff-0d688874620f",
   "metadata": {},
   "outputs": [],
   "source": [
    "from base import loadGraph, Cube\n",
    "\n",
    "graph = loadGraph()"
   ]
  },
  {
   "cell_type": "code",
   "execution_count": 11,
   "id": "0e0c0ae1",
   "metadata": {},
   "outputs": [
    {
     "name": "stdout",
     "output_type": "stream",
     "text": [
      "\n",
      "        ┌──┬──┐\n",
      "        │ 5│ 0│\n",
      "        ├──┼──┤\n",
      "        │ 3│ 3│\n",
      "  ┌──┬──┼──┼──┼──┬──┬──┬──┐\n",
      "  │ 0│ 5│ 1│ 1│ 2│ 4│ 2│ 4│\n",
      "  ├──┼──┼──┼──┼──┼──┼──┼──┤\n",
      "  │ 4│ 5│ 1│ 1│ 2│ 2│ 3│ 5│\n",
      "  └──┴──┼──┼──┼──┴──┴──┴──┘\n",
      "        │ 0│ 0│\n",
      "        ├──┼──┤\n",
      "        │ 3│ 4│\n",
      "        └──┴──┘\n",
      "        \n",
      "R F' U2 F U' F2 U R F2 R2\n"
     ]
    }
   ],
   "source": [
    "#   sides   |  side\n",
    "#    0      |  1 2\n",
    "#  4 2 1 5  |  3 4\n",
    "#    3      |\n",
    "\n",
    "c = Cube('RRRR GGGG WWWW OOOO BBBB YYYY')\n",
    "c = Cube('OYWW RBRR GGGG YYWB YOBO RBWO')\n",
    "print(c)\n",
    "p = c.getPathInfo(graph)\n",
    "print(' '.join(p))"
   ]
  },
  {
   "cell_type": "code",
   "execution_count": 8,
   "id": "37c4a849",
   "metadata": {},
   "outputs": [
    {
     "name": "stdout",
     "output_type": "stream",
     "text": [
      "\n",
      "        ┌──┬──┐\n",
      "        │ 2│ 3│\n",
      "        ├──┼──┤\n",
      "        │ 1│ 1│\n",
      "  ┌──┬──┼──┼──┼──┬──┬──┬──┐\n",
      "  │ 4│ 3│ 5│ 2│ 3│ 2│ 4│ 0│\n",
      "  ├──┼──┼──┼──┼──┼──┼──┼──┤\n",
      "  │ 4│ 0│ 4│ 0│ 1│ 1│ 0│ 5│\n",
      "  └──┴──┼──┼──┼──┴──┴──┴──┘\n",
      "        │ 5│ 2│\n",
      "        ├──┼──┤\n",
      "        │ 3│ 5│\n",
      "        └──┴──┘\n",
      "        \n",
      "R U' R' F' U F2 U R'\n"
     ]
    }
   ],
   "source": [
    "c = Cube()\n",
    "c.turn(\"R F U F' R F2 U2 R F\")\n",
    "print(c)\n",
    "p = c.getPathInfo(graph)\n",
    "print(' '.join(p))"
   ]
  }
 ],
 "metadata": {
  "kernelspec": {
   "display_name": "Python 3 (ipykernel)",
   "language": "python",
   "name": "python3"
  },
  "language_info": {
   "codemirror_mode": {
    "name": "ipython",
    "version": 3
   },
   "file_extension": ".py",
   "mimetype": "text/x-python",
   "name": "python",
   "nbconvert_exporter": "python",
   "pygments_lexer": "ipython3",
   "version": "3.12.1"
  }
 },
 "nbformat": 4,
 "nbformat_minor": 5
}
