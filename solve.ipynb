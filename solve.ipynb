{
 "cells": [
  {
   "cell_type": "markdown",
   "id": "44d4e035",
   "metadata": {},
   "source": [
    "#### Init"
   ]
  },
  {
   "cell_type": "code",
   "execution_count": 1,
   "id": "4c3743af-7e59-4772-aaff-0d688874620f",
   "metadata": {},
   "outputs": [],
   "source": [
    "from base import loadGraph, Cube, state2nice\n",
    "\n",
    "graph = loadGraph()\n",
    "\n",
    "def printPath(p):\n",
    "    print('Solving:')\n",
    "    print(f\"{len(p)} Turns: {' '.join(p)}\")"
   ]
  },
  {
   "cell_type": "markdown",
   "id": "5965ed0e",
   "metadata": {},
   "source": [
    "### Solve by given color assignment\n",
    "```\n",
    "   sides   |  side\n",
    "    0      |  1 2 \n",
    "  4 2 1 5  |  3 4 \n",
    "    3      |      \n",
    "```"
   ]
  },
  {
   "cell_type": "code",
   "execution_count": 2,
   "id": "5849b4b9-d811-4515-a0c1-e5676e26a26f",
   "metadata": {},
   "outputs": [
    {
     "name": "stdout",
     "output_type": "stream",
     "text": [
      "['B', 'W', 'O', 'G', 'Y', 'R']\n"
     ]
    }
   ],
   "source": [
    "c = Cube('OWWR BOYO RYBO RBGW GGYW GYBR')\n",
    "# print(c)\n",
    "# OWWR OOBY RYBO RBGW GGYW GYBR"
   ]
  },
  {
   "cell_type": "code",
   "execution_count": 3,
   "id": "f6528d70",
   "metadata": {},
   "outputs": [
    {
     "name": "stdout",
     "output_type": "stream",
     "text": [
      "\n",
      "          ┌───┬───┐\n",
      "          │\u001b[1;90m\u001b[45m O \u001b[0m│\u001b[1;90m\u001b[47m W \u001b[0m│\n",
      "          ├───┼───┤\n",
      "          │\u001b[1;90m\u001b[47m W \u001b[0m│\u001b[1;90m\u001b[41m R \u001b[0m│\n",
      "  ┌───┬───┼───┼───┼───┬───┬───┬───┐\n",
      "  │\u001b[1;90m\u001b[42m G \u001b[0m│\u001b[1;90m\u001b[42m G \u001b[0m│\u001b[1;90m\u001b[41m R \u001b[0m│\u001b[1;90m\u001b[43m Y \u001b[0m│\u001b[1;90m\u001b[44m B \u001b[0m│\u001b[1;90m\u001b[45m O \u001b[0m│\u001b[1;90m\u001b[42m G \u001b[0m│\u001b[1;90m\u001b[43m Y \u001b[0m│\n",
      "  ├───┼───┼───┼───┼───┼───┼───┼───┤\n",
      "  │\u001b[1;90m\u001b[43m Y \u001b[0m│\u001b[1;90m\u001b[47m W \u001b[0m│\u001b[1;90m\u001b[44m B \u001b[0m│\u001b[1;90m\u001b[45m O \u001b[0m│\u001b[1;90m\u001b[43m Y \u001b[0m│\u001b[1;90m\u001b[45m O \u001b[0m│\u001b[1;90m\u001b[44m B \u001b[0m│\u001b[1;90m\u001b[41m R \u001b[0m│\n",
      "  └───┴───┼───┼───┼───┴───┴───┴───┘\n",
      "          │\u001b[1;90m\u001b[41m R \u001b[0m│\u001b[1;90m\u001b[44m B \u001b[0m│\n",
      "          ├───┼───┤\n",
      "          │\u001b[1;90m\u001b[42m G \u001b[0m│\u001b[1;90m\u001b[47m W \u001b[0m│\n",
      "          └───┴───┘\n",
      "        \n"
     ]
    }
   ],
   "source": [
    "print(c)"
   ]
  },
  {
   "cell_type": "code",
   "execution_count": 4,
   "id": "0e0c0ae1",
   "metadata": {},
   "outputs": [
    {
     "name": "stdout",
     "output_type": "stream",
     "text": [
      "Solving:\n",
      "9 Turns: R' F2 U2 R' F U' R2 U' R\n"
     ]
    },
    {
     "data": {
      "text/plain": [
       "<base.Cube at 0x7fa575d7c590>"
      ]
     },
     "execution_count": 4,
     "metadata": {},
     "output_type": "execute_result"
    }
   ],
   "source": [
    "# c = Cube('RRRR GGGG WWWW OOOO BBBB YYYY')\n",
    "# \n",
    "p = c.getPathInfo(graph)\n",
    "printPath(p)\n",
    "c"
   ]
  },
  {
   "cell_type": "markdown",
   "id": "159084a4",
   "metadata": {},
   "source": [
    "#### Solve by given turns"
   ]
  },
  {
   "cell_type": "code",
   "execution_count": 17,
   "id": "37c4a849",
   "metadata": {},
   "outputs": [
    {
     "name": "stdout",
     "output_type": "stream",
     "text": [
      "Solving:\n",
      "8 Turns: R U' R' F' U F2 U R'\n"
     ]
    }
   ],
   "source": [
    "c = Cube()\n",
    "c.turn(\"R F U F' R F2 U2 R F\")\n",
    "# print(c)\n",
    "p = c.getPathInfo(graph)\n",
    "printPath(p)"
   ]
  },
  {
   "cell_type": "markdown",
   "id": "2799dae0",
   "metadata": {},
   "source": [
    "#### Solve a shuffled cube"
   ]
  },
  {
   "cell_type": "code",
   "execution_count": 79,
   "id": "fdea3b46",
   "metadata": {},
   "outputs": [
    {
     "name": "stdout",
     "output_type": "stream",
     "text": [
      "F2 R2 U2 F F R' F' U R2 U' F2 R U' F2 R' U' U2 U U2 R R2 U' R2 U2 R2 F' R2 F2 R2 F' F' U' U R2 U R' F2 F U2 U'\n",
      "Solving:\n",
      "8 Turns: R2 F' R F' R2 U' R' U'\n"
     ]
    }
   ],
   "source": [
    "c = Cube()\n",
    "c.shuffle(40)\n",
    "# print(c)\n",
    "p = c.getPathInfo(graph)\n",
    "printPath(p)"
   ]
  }
 ],
 "metadata": {
  "kernelspec": {
   "display_name": "venv",
   "language": "python",
   "name": "python3"
  },
  "language_info": {
   "codemirror_mode": {
    "name": "ipython",
    "version": 3
   },
   "file_extension": ".py",
   "mimetype": "text/x-python",
   "name": "python",
   "nbconvert_exporter": "python",
   "pygments_lexer": "ipython3",
   "version": "3.13.3"
  }
 },
 "nbformat": 4,
 "nbformat_minor": 5
}
