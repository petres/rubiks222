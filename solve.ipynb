{
 "cells": [
  {
   "cell_type": "code",
   "execution_count": 1,
   "id": "4c3743af-7e59-4772-aaff-0d688874620f",
   "metadata": {},
   "outputs": [],
   "source": [
    "import numpy as np\n",
    "from base import perms, s2k, loadStates, dtype, Cube, state2nice, getInverse"
   ]
  },
  {
   "cell_type": "code",
   "execution_count": 2,
   "id": "9e919c56-013a-4d6d-a3ed-5497fc2fa0b0",
   "metadata": {},
   "outputs": [
    {
     "data": {
      "text/plain": [
       "(b'\\x00\\x04\\x01\\x03\\x01\\x03\\x01\\x03\\x02\\x05\\x02\\x05\\x04\\x00\\x03\\x01\\x04\\x00\\x04\\x00\\x02\\x05\\x02\\x05',\n",
       " {'dist': 2,\n",
       "  'pre': b'\\x00\\x00\\x01\\x01\\x03\\x01\\x03\\x01\\x02\\x02\\x02\\x02\\x04\\x04\\x03\\x03\\x04\\x00\\x04\\x00\\x05\\x05\\x05\\x05',\n",
       "  'pn': 'R2'})"
      ]
     },
     "execution_count": 2,
     "metadata": {},
     "output_type": "execute_result"
    }
   ],
   "source": [
    "states = loadStates()\n",
    "s_e = list(states.items())[59]\n",
    "s_e"
   ]
  },
  {
   "cell_type": "code",
   "execution_count": 40,
   "id": "a20f925e",
   "metadata": {},
   "outputs": [
    {
     "name": "stdout",
     "output_type": "stream",
     "text": [
      "U2 F U F2 R2 U' F' R2\n"
     ]
    }
   ],
   "source": [
    "# COLOR MAPPING, FIXED CUBIE\n",
    "\n",
    "# bottom -> p 14 -> c 3G\n",
    "# left   -> p 18 -> c 4R\n",
    "# back   -> p 23 -> c 5W\n",
    "\n",
    "#    0B\n",
    "# 4R 2Y 1O 5W\n",
    "#    3G\n",
    "\n",
    "c2i = {\n",
    "    'B': 0, 'O': 1, 'Y': 2,\n",
    "    'G': 3, 'R': 4, 'W': 5,\n",
    "}\n",
    "\n",
    "colors = \"BOYGRW\"\n",
    "color_opp = {\n",
    "    \"B\": \"G\",\n",
    "    \"O\": \"R\",\n",
    "    \"Y\": \"W\",\n",
    "    \"G\": \"B\",\n",
    "    \"R\": \"O\",\n",
    "    \"W\": \"Y\",\n",
    "}\n",
    "\n",
    "class Cube(object):\n",
    "    state = None\n",
    "    \n",
    "    def __init__(self, state = None):\n",
    "        if state is None:\n",
    "            state = np.array([[i] * 4 for i in range(6)], dtype = dtype).flatten()\n",
    "        if isinstance(state, str):\n",
    "            state = state.replace(\" \",\"\")\n",
    "            if len(state) != 24:\n",
    "                raise Exception(f'Cube state string has length {len(state)} (!= 24)')\n",
    "            for c in c2i.keys():\n",
    "                if state.count(c) != 4:\n",
    "                    raise Exception(f'Color {c} occurs {state.count(c)} (!=4)')\n",
    "            \n",
    "            # TODO\n",
    "            # map colors to fixed cubie\n",
    "            # c2i = {\n",
    "            #     state[14]: 1, state[18]: 5, state[23]: 3,\n",
    "            # }\n",
    "            # c2i[\"\"] = 0\n",
    "            # c2i[\"\"] = 2\n",
    "            # c2i[\"\"] = 4\n",
    "            \n",
    "            state = np.array([c2i[c] for c in state], dtype = dtype)\n",
    "        \n",
    "        self.state = state\n",
    "\n",
    "    def __str__(self):\n",
    "        return state2nice(self.state)\n",
    "\n",
    "    def apply(self, name):\n",
    "        if name not in perms:\n",
    "            raise Exception(f'`{name}`no valid permutation name provided!')\n",
    "        self.state = self.state[perms[name]]\n",
    "        return self\n",
    "    \n",
    "    def turn(self, d=None, r=1):\n",
    "        ts = d.strip().split(' ')\n",
    "        for t in ts:\n",
    "            for i in range(r%4):\n",
    "                self.apply(t)\n",
    "        return self\n",
    "    \n",
    "    def getPathInfo(self, states):\n",
    "        p = []\n",
    "        k = s2k(self.state)\n",
    "        while True:\n",
    "            s = states[k]\n",
    "            if s['dist'] == 0:\n",
    "                break\n",
    "            p.append(getInverse(s['pn']))\n",
    "\n",
    "            k = s['pre']\n",
    "        return p\n",
    "\n",
    "\n",
    "\n",
    "# Indices:\n",
    "#        ┌──┬──┐\n",
    "#        │ 0│ 1│\n",
    "#        ├──┼──┤\n",
    "#        │ 2│ 3│\n",
    "#  ┌──┬──┼──┼──┼──┬──┬──┬──┐\n",
    "#  │16│17│ 8│ 9│ 4│ 5│20│21│\n",
    "#  ├──┼──┼──┼──┼──┼──┼──┼──┤\n",
    "#  │18│19│10│11│ 6│ 7│22│23│\n",
    "#  └──┴──┼──┼──┼──┴──┴──┴──┘\n",
    "#        │12│13│\n",
    "#        ├──┼──┤\n",
    "#        │14│15│\n",
    "#        └──┴──┘\n",
    "\n",
    "#    0B\n",
    "# 4O 2Y 1G 5R\n",
    "#    3W\n",
    "\n",
    "\n",
    "# c = Cube()\n",
    "# print(c)\n",
    "\n",
    "c = Cube('GWBG OBGY RWBO OYGB RWRY OYRW')\n",
    "c = Cube('YGBY RYWO OBBR WBGG OYRO RGWW')\n",
    "# print(c)\n",
    "# c = Cube('WYYR GOWY OWGB ROWB BGOY BRRG')\n",
    "# # c.turn(\"\")\n",
    "# print(c.state)\n",
    "# print(c)\n",
    "\n",
    "\n",
    "\n",
    "# R R \n",
    "c = Cube()\n",
    "# # c.turn(\"R U R U R U R U R U R U\")\n",
    "c.turn(\"R' U \" * 4)\n",
    "\n",
    "\n",
    "p = c.getPathInfo(states)\n",
    "print(' '.join(p))\n",
    "# for pe in p:\n",
    "#     c.turn(pe)\n",
    "#     print(c)"
   ]
  },
  {
   "cell_type": "code",
   "execution_count": 17,
   "id": "da523d91",
   "metadata": {},
   "outputs": [
    {
     "data": {
      "text/plain": [
       "'R U R U R U R U R U R U R U R U R U R U R U R U R U R U R U '"
      ]
     },
     "execution_count": 17,
     "metadata": {},
     "output_type": "execute_result"
    }
   ],
   "source": [
    "\"R U \" * 15"
   ]
  }
 ],
 "metadata": {
  "kernelspec": {
   "display_name": "Python 3 (ipykernel)",
   "language": "python",
   "name": "python3"
  },
  "language_info": {
   "codemirror_mode": {
    "name": "ipython",
    "version": 3
   },
   "file_extension": ".py",
   "mimetype": "text/x-python",
   "name": "python",
   "nbconvert_exporter": "python",
   "pygments_lexer": "ipython3",
   "version": "3.12.1"
  }
 },
 "nbformat": 4,
 "nbformat_minor": 5
}
