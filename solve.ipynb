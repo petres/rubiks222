{
 "cells": [
  {
   "cell_type": "markdown",
   "id": "44d4e035",
   "metadata": {},
   "source": [
    "#### Init"
   ]
  },
  {
   "cell_type": "code",
   "execution_count": 15,
   "id": "4c3743af-7e59-4772-aaff-0d688874620f",
   "metadata": {},
   "outputs": [],
   "source": [
    "from base import loadGraph, Cube\n",
    "\n",
    "graph = loadGraph()\n",
    "\n",
    "def printPath(p):\n",
    "    print('Solving:')\n",
    "    print(f\"{len(p)} Turns: {' '.join(p)}\")"
   ]
  },
  {
   "cell_type": "markdown",
   "id": "5965ed0e",
   "metadata": {},
   "source": [
    "### Solve by given color assignment\n",
    "```\n",
    "   sides   |  side\n",
    "    0      |  1 2 \n",
    "  4 2 1 5  |  3 4 \n",
    "    3      |      \n",
    "```"
   ]
  },
  {
   "cell_type": "code",
   "execution_count": 16,
   "id": "0e0c0ae1",
   "metadata": {},
   "outputs": [
    {
     "name": "stdout",
     "output_type": "stream",
     "text": [
      "Solving:\n",
      "10 Turns: U R F U2 F U' F' R U R'\n"
     ]
    }
   ],
   "source": [
    "# c = Cube('RRRR GGGG WWWW OOOO BBBB YYYY')\n",
    "c = Cube('OYYR GOWW GWBR YBGB GRWR BYOO')\n",
    "p = c.getPathInfo(graph)\n",
    "printPath(p)"
   ]
  },
  {
   "cell_type": "markdown",
   "id": "159084a4",
   "metadata": {},
   "source": [
    "#### Solve by given turns"
   ]
  },
  {
   "cell_type": "code",
   "execution_count": 17,
   "id": "37c4a849",
   "metadata": {},
   "outputs": [
    {
     "name": "stdout",
     "output_type": "stream",
     "text": [
      "Solving:\n",
      "8 Turns: R U' R' F' U F2 U R'\n"
     ]
    }
   ],
   "source": [
    "c = Cube()\n",
    "c.turn(\"R F U F' R F2 U2 R F\")\n",
    "# print(c)\n",
    "p = c.getPathInfo(graph)\n",
    "printPath(p)"
   ]
  },
  {
   "cell_type": "markdown",
   "id": "2799dae0",
   "metadata": {},
   "source": [
    "#### Solve a shuffled cube"
   ]
  },
  {
   "cell_type": "code",
   "execution_count": 102,
   "id": "fdea3b46",
   "metadata": {},
   "outputs": [
    {
     "name": "stdout",
     "output_type": "stream",
     "text": [
      "U2 F U R R R U2 U' F2 R'\n",
      "Solving:\n",
      "7 Turns: R F2 U' R U' F' U2\n"
     ]
    }
   ],
   "source": [
    "c = Cube()\n",
    "c.shuffle(10)\n",
    "# print(c)\n",
    "p = c.getPathInfo(graph)\n",
    "printPath(p)"
   ]
  }
 ],
 "metadata": {
  "kernelspec": {
   "display_name": "Python 3 (ipykernel)",
   "language": "python",
   "name": "python3"
  },
  "language_info": {
   "codemirror_mode": {
    "name": "ipython",
    "version": 3
   },
   "file_extension": ".py",
   "mimetype": "text/x-python",
   "name": "python",
   "nbconvert_exporter": "python",
   "pygments_lexer": "ipython3",
   "version": "3.12.1"
  }
 },
 "nbformat": 4,
 "nbformat_minor": 5
}
