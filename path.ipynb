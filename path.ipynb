{
 "cells": [
  {
   "cell_type": "code",
   "execution_count": 1,
   "id": "4c3743af-7e59-4772-aaff-0d688874620f",
   "metadata": {},
   "outputs": [],
   "source": [
    "import numpy as np\n",
    "import time\n",
    "from base import perms, s2k, saveStates, dtype"
   ]
  },
  {
   "cell_type": "code",
   "execution_count": 2,
   "id": "9e919c56-013a-4d6d-a3ed-5497fc2fa0b0",
   "metadata": {},
   "outputs": [],
   "source": [
    "pns = [f\"{d}{t}\" for d in ['R', 'U', 'F'] for t in ['','2',\"'\"]]\n",
    "# pns = [f\"{d}{t}\" for d in ['R', 'U', 'F'] for t in ['']]\n",
    "perms_a = [(pn, perms[pn]) for pn in pns]"
   ]
  },
  {
   "cell_type": "code",
   "execution_count": 3,
   "id": "acde733a-c463-4ca7-b01f-7e82e86131ab",
   "metadata": {},
   "outputs": [
    {
     "name": "stdout",
     "output_type": "stream",
     "text": [
      "Starting:\n",
      " - Iteration  0:       1\n",
      " - Iteration  1:       9\n",
      " - Iteration  2:      54\n",
      " - Iteration  3:     321\n",
      " - Iteration  4:    1847\n",
      " - Iteration  5:    9992\n",
      " - Iteration  6:   50136\n",
      " - Iteration  7:  227536\n",
      " - Iteration  8:  870072\n",
      " - Iteration  9: 1887748\n",
      " - Iteration 10:  623800\n",
      " - Iteration 11:    2644\n",
      "Finished, Count: 3674160\n",
      "59 seconds elapsed.\n"
     ]
    }
   ],
   "source": [
    "def explore_step(sts, i):\n",
    "    todo = []\n",
    "    for s in sts:\n",
    "        for n, p in perms_a:\n",
    "            sn = s[p]\n",
    "            k = s2k(sn)\n",
    "            if k in states:\n",
    "                continue\n",
    "            states[k] = {\n",
    "                'dist': i + 1,\n",
    "                'pre': s2k(s),\n",
    "                'pn': n,\n",
    "            }\n",
    "            todo.append(sn)\n",
    "    return todo\n",
    "\n",
    "s_c = np.array([[i] * 4 for i in range(6)], dtype = dtype).flatten()\n",
    "states = {\n",
    "    s2k(s_c): {\n",
    "        'dist': 0,\n",
    "        'pre': None,\n",
    "        'pn': None,\n",
    "    }\n",
    "}\n",
    "# to_explore = [perms['I']]\n",
    "to_explore = [s_c]\n",
    "\n",
    "print(f'Starting:')\n",
    "start = time.time()\n",
    "for it in range(0, 100):\n",
    "    print(f\" - Iteration {it:2}: {len(to_explore):7}\")\n",
    "    to_explore = explore_step(to_explore, it)\n",
    "    if len(to_explore) == 0:\n",
    "        print(f'Finished, Count: {len(states)}')\n",
    "        break\n",
    "end = time.time()\n",
    "print(f\"{round(end - start)} seconds elapsed.\")"
   ]
  },
  {
   "cell_type": "code",
   "execution_count": 4,
   "id": "add6d479-c769-4b59-8295-5b7c48ec8dbe",
   "metadata": {},
   "outputs": [],
   "source": [
    "saveStates(states)"
   ]
  }
 ],
 "metadata": {
  "kernelspec": {
   "display_name": "Python 3 (ipykernel)",
   "language": "python",
   "name": "python3"
  },
  "language_info": {
   "codemirror_mode": {
    "name": "ipython",
    "version": 3
   },
   "file_extension": ".py",
   "mimetype": "text/x-python",
   "name": "python",
   "nbconvert_exporter": "python",
   "pygments_lexer": "ipython3",
   "version": "3.12.1"
  }
 },
 "nbformat": 4,
 "nbformat_minor": 5
}
